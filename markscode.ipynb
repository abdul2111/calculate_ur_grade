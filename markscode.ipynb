{
  "nbformat": 4,
  "nbformat_minor": 0,
  "metadata": {
    "colab": {
      "provenance": []
    },
    "kernelspec": {
      "name": "python3",
      "display_name": "Python 3"
    },
    "language_info": {
      "name": "python"
    }
  },
  "cells": [
    {
      "cell_type": "code",
      "execution_count": null,
      "metadata": {
        "colab": {
          "base_uri": "https://localhost:8080/"
        },
        "id": "1FTjjXlNihmb",
        "outputId": "dc0004c0-c4e7-430f-a9c7-d9a1ee5bba67"
      },
      "outputs": [
        {
          "name": "stdout",
          "output_type": "stream",
          "text": [
            "enter the number of diffrent section that profressor gave5\n"
          ]
        }
      ],
      "source": [
        " n=input(\"enter the number of diffrent section that profressor gave\")"
      ]
    },
    {
      "cell_type": "code",
      "source": [
        "p=int(input('enter the number of projects'))\n",
        "pn=int(input('enter the total marks of projects'))\n",
        "pw=int(input('enter the weightage of project'))\n",
        "e=int(input('enter the number of exams'))\n",
        "en=int(input('enter the total marks of exams'))\n",
        "ew=int(input('enter the weightage of exam'))\n",
        "hw=int(input('enter the number of homeworks'))\n",
        "hwn=int(input('enter the total marks of homeworks'))\n",
        "hww=int(input('enter the weightage of homeworks'))\n"
      ],
      "metadata": {
        "colab": {
          "base_uri": "https://localhost:8080/"
        },
        "id": "9DYvdS3-jMy_",
        "outputId": "4dc04524-f925-4acf-fec1-21ebaaf5c399"
      },
      "execution_count": null,
      "outputs": [
        {
          "name": "stdout",
          "output_type": "stream",
          "text": [
            "enter the number of projects2\n",
            "enter the total marks of projects100\n",
            "enter the weightage of project20\n",
            "enter the number of exams2\n",
            "enter the total marks of exams100\n",
            "enter the weightage of exam40\n",
            "enter the number of homeworks8\n",
            "enter the total marks of homeworks50\n",
            "enter the weightage of homeworks40\n"
          ]
        }
      ]
    },
    {
      "cell_type": "code",
      "source": [
        "pt=et=hwt=0\n",
        "for x in range(p):\n",
        "  pa=int(input(print('enter the marks of project')))\n",
        "  pt=pt+pa \n",
        "for x in range(e):\n",
        "  ea=int(input(print('enter the marks of exam')))\n",
        "  et=et+ea\n",
        "for x in range(hw):\n",
        "  hwa=int(input(print('enter the marks of homework')))\n",
        "  hwt=hwt+hwa"
      ],
      "metadata": {
        "colab": {
          "base_uri": "https://localhost:8080/"
        },
        "id": "91l9KKhQm8nK",
        "outputId": "bb12e709-92e4-4a1f-9e03-0245a63ecdfb"
      },
      "execution_count": null,
      "outputs": [
        {
          "name": "stdout",
          "output_type": "stream",
          "text": [
            "enter the marks of project\n",
            "None100\n",
            "enter the marks of project\n",
            "None100\n",
            "enter the marks of exam\n",
            "None57\n",
            "enter the marks of exam\n",
            "None87\n",
            "enter the marks of homework\n",
            "None50\n",
            "enter the marks of homework\n",
            "None47\n",
            "enter the marks of homework\n",
            "None46\n",
            "enter the marks of homework\n",
            "None50\n",
            "enter the marks of homework\n",
            "None50\n",
            "enter the marks of homework\n",
            "None50\n",
            "enter the marks of homework\n",
            "None50\n",
            "enter the marks of homework\n",
            "None50\n"
          ]
        }
      ]
    },
    {
      "cell_type": "code",
      "source": [
        "#avg marks scored in each section\n",
        "pavg=pt/p\n",
        "print(pavg)\n",
        "eavg=et/e\n",
        "print(eavg)\n",
        "hwavg=hwt/hw\n",
        "print(hwavg)\n",
        "#weightage of each section\n",
        "pwa=(pavg/pn)*pw\n",
        "print(pwa)\n",
        "ewa=(eavg/en)*ew\n",
        "print(ewa)\n",
        "hwwa=(hwavg/hwn)*hww\n",
        "print(hwwa)\n",
        "#total marks or percentage is\n",
        "total=pwa+ewa+hwwa\n",
        "print('the marks or percent scored for this semester is ',total)"
      ],
      "metadata": {
        "colab": {
          "base_uri": "https://localhost:8080/"
        },
        "id": "SitDWFmGp7m5",
        "outputId": "54e870b9-8e05-418d-e42e-ac1e138eca9a"
      },
      "execution_count": null,
      "outputs": [
        {
          "output_type": "stream",
          "name": "stdout",
          "text": [
            "100.0\n",
            "72.0\n",
            "49.125\n",
            "20.0\n",
            "28.799999999999997\n",
            "39.300000000000004\n",
            "the marks or percent scored for this semester is  88.1\n"
          ]
        }
      ]
    },
    {
      "cell_type": "code",
      "source": [
        "if total>=95:\n",
        "  print('congradualtions you got A ')\n",
        "if 95>total>=90:\n",
        "  print('congradualtions you got -A ')\n",
        "if 90>total>=85:\n",
        "  print('congradualtions you got +B ')\n",
        "if 85>total>=80:\n",
        "  print('congradualtions you got B ')\n",
        "if 80>total>=75:\n",
        "  print('congradualtions you got -B ')\n",
        "if 75>total>=70:\n",
        "  print('congradualtions you got +C ')\n",
        "if 70>total>=65:\n",
        "  print('congradualtions you got C ')\n",
        "if 65>total>=60:\n",
        "  print('congradualtions you got -C ')\n",
        "\n"
      ],
      "metadata": {
        "colab": {
          "base_uri": "https://localhost:8080/"
        },
        "id": "azZwYFHZ2ni-",
        "outputId": "704e35d1-6f8a-4e50-a55c-9ead7fb8203e"
      },
      "execution_count": null,
      "outputs": [
        {
          "output_type": "stream",
          "name": "stdout",
          "text": [
            "congradualtions you got +B \n"
          ]
        }
      ]
    },
    {
      "cell_type": "code",
      "source": [],
      "metadata": {
        "id": "Vb473f2C33be"
      },
      "execution_count": null,
      "outputs": []
    }
  ]
}